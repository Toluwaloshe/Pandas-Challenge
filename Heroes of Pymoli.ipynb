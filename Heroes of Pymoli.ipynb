{
 "cells": [
  {
   "cell_type": "code",
   "execution_count": null,
   "metadata": {},
   "outputs": [],
   "source": [
    "#Observable Trends\n",
    "\n",
    "#1. Most of the players of this game are male (85%), followed by female players (15%) and players who have not disclosed their gender (1%)\n",
    "#2.Although most players are male, players who did not disclose their gender spent more on additional items on average at $3.34 per item\n",
    "#3. \"Oathbreaker, Last Hope of the Breaking Storm\" was the most popular item at 12 purchases, followed by \"Extraction, Quickblade Of Trembling Hands\" and \"Nirvana\""
   ]
  },
  {
   "cell_type": "code",
   "execution_count": 130,
   "metadata": {},
   "outputs": [],
   "source": [
    "import pandas as pd\n",
    "import numpy as np"
   ]
  },
  {
   "cell_type": "code",
   "execution_count": 131,
   "metadata": {},
   "outputs": [],
   "source": [
    "purchase_data = \"purchase_data.csv\""
   ]
  },
  {
   "cell_type": "code",
   "execution_count": 132,
   "metadata": {},
   "outputs": [
    {
     "data": {
      "text/html": [
       "<div>\n",
       "<style scoped>\n",
       "    .dataframe tbody tr th:only-of-type {\n",
       "        vertical-align: middle;\n",
       "    }\n",
       "\n",
       "    .dataframe tbody tr th {\n",
       "        vertical-align: top;\n",
       "    }\n",
       "\n",
       "    .dataframe thead th {\n",
       "        text-align: right;\n",
       "    }\n",
       "</style>\n",
       "<table border=\"1\" class=\"dataframe\">\n",
       "  <thead>\n",
       "    <tr style=\"text-align: right;\">\n",
       "      <th></th>\n",
       "      <th>Purchase ID</th>\n",
       "      <th>SN</th>\n",
       "      <th>Age</th>\n",
       "      <th>Gender</th>\n",
       "      <th>Item ID</th>\n",
       "      <th>Item Name</th>\n",
       "      <th>Price</th>\n",
       "    </tr>\n",
       "  </thead>\n",
       "  <tbody>\n",
       "    <tr>\n",
       "      <td>0</td>\n",
       "      <td>0</td>\n",
       "      <td>Lisim78</td>\n",
       "      <td>20</td>\n",
       "      <td>Male</td>\n",
       "      <td>108</td>\n",
       "      <td>Extraction, Quickblade Of Trembling Hands</td>\n",
       "      <td>3.53</td>\n",
       "    </tr>\n",
       "    <tr>\n",
       "      <td>1</td>\n",
       "      <td>1</td>\n",
       "      <td>Lisovynya38</td>\n",
       "      <td>40</td>\n",
       "      <td>Male</td>\n",
       "      <td>143</td>\n",
       "      <td>Frenzied Scimitar</td>\n",
       "      <td>1.56</td>\n",
       "    </tr>\n",
       "    <tr>\n",
       "      <td>2</td>\n",
       "      <td>2</td>\n",
       "      <td>Ithergue48</td>\n",
       "      <td>24</td>\n",
       "      <td>Male</td>\n",
       "      <td>92</td>\n",
       "      <td>Final Critic</td>\n",
       "      <td>4.88</td>\n",
       "    </tr>\n",
       "    <tr>\n",
       "      <td>3</td>\n",
       "      <td>3</td>\n",
       "      <td>Chamassasya86</td>\n",
       "      <td>24</td>\n",
       "      <td>Male</td>\n",
       "      <td>100</td>\n",
       "      <td>Blindscythe</td>\n",
       "      <td>3.27</td>\n",
       "    </tr>\n",
       "    <tr>\n",
       "      <td>4</td>\n",
       "      <td>4</td>\n",
       "      <td>Iskosia90</td>\n",
       "      <td>23</td>\n",
       "      <td>Male</td>\n",
       "      <td>131</td>\n",
       "      <td>Fury</td>\n",
       "      <td>1.44</td>\n",
       "    </tr>\n",
       "  </tbody>\n",
       "</table>\n",
       "</div>"
      ],
      "text/plain": [
       "   Purchase ID             SN  Age Gender  Item ID  \\\n",
       "0            0        Lisim78   20   Male      108   \n",
       "1            1    Lisovynya38   40   Male      143   \n",
       "2            2     Ithergue48   24   Male       92   \n",
       "3            3  Chamassasya86   24   Male      100   \n",
       "4            4      Iskosia90   23   Male      131   \n",
       "\n",
       "                                   Item Name  Price  \n",
       "0  Extraction, Quickblade Of Trembling Hands   3.53  \n",
       "1                          Frenzied Scimitar   1.56  \n",
       "2                               Final Critic   4.88  \n",
       "3                                Blindscythe   3.27  \n",
       "4                                       Fury   1.44  "
      ]
     },
     "execution_count": 132,
     "metadata": {},
     "output_type": "execute_result"
    }
   ],
   "source": [
    "#Creating a data frame\n",
    "purchase_data_pd = pd.read_csv(purchase_data)\n",
    "purchase_data_pd.head()"
   ]
  },
  {
   "cell_type": "code",
   "execution_count": 133,
   "metadata": {},
   "outputs": [
    {
     "data": {
      "text/plain": [
       "Purchase ID    780\n",
       "SN             780\n",
       "Age            780\n",
       "Gender         780\n",
       "Item ID        780\n",
       "Item Name      780\n",
       "Price          780\n",
       "dtype: int64"
      ]
     },
     "execution_count": 133,
     "metadata": {},
     "output_type": "execute_result"
    }
   ],
   "source": [
    "#Player count\n",
    "player_count = purchase_data_pd.count()\n",
    "player_count"
   ]
  },
  {
   "cell_type": "code",
   "execution_count": 134,
   "metadata": {},
   "outputs": [
    {
     "data": {
      "text/plain": [
       "True"
      ]
     },
     "execution_count": 134,
     "metadata": {},
     "output_type": "execute_result"
    }
   ],
   "source": [
    "#Check if there are duplicates\n",
    "boolean = purchase_data_pd['SN'].duplicated().any()\n",
    "boolean"
   ]
  },
  {
   "cell_type": "code",
   "execution_count": 135,
   "metadata": {},
   "outputs": [
    {
     "data": {
      "text/plain": [
       "179"
      ]
     },
     "execution_count": 135,
     "metadata": {},
     "output_type": "execute_result"
    }
   ],
   "source": [
    "#Count of unique items\n",
    "unique_items = purchase_data_pd['Item Name'].nunique()\n",
    "unique_items"
   ]
  },
  {
   "cell_type": "code",
   "execution_count": 136,
   "metadata": {},
   "outputs": [
    {
     "data": {
      "text/plain": [
       "3.0509871794871795"
      ]
     },
     "execution_count": 136,
     "metadata": {},
     "output_type": "execute_result"
    }
   ],
   "source": [
    "#Average purchase price\n",
    "avg_price = purchase_data_pd['Price'].sum() / purchase_data_pd['Price'].count()\n",
    "avg_price"
   ]
  },
  {
   "cell_type": "code",
   "execution_count": 137,
   "metadata": {},
   "outputs": [
    {
     "data": {
      "text/plain": [
       "780"
      ]
     },
     "execution_count": 137,
     "metadata": {},
     "output_type": "execute_result"
    }
   ],
   "source": [
    "#Total number of purchses\n",
    "tot_purch = purchase_data_pd['Purchase ID'].nunique()\n",
    "tot_purch"
   ]
  },
  {
   "cell_type": "code",
   "execution_count": 139,
   "metadata": {},
   "outputs": [
    {
     "data": {
      "text/plain": [
       "2379.77"
      ]
     },
     "execution_count": 139,
     "metadata": {},
     "output_type": "execute_result"
    }
   ],
   "source": [
    "#Total Revenue\n",
    "tot_revenue = purchase_data_pd['Price'].sum()\n",
    "tot_revenue"
   ]
  },
  {
   "cell_type": "code",
   "execution_count": 140,
   "metadata": {},
   "outputs": [
    {
     "name": "stdout",
     "output_type": "stream",
     "text": [
      "Count of Male Players:  652\n",
      "Percent of Male Players:  0.8358974358974359\n"
     ]
    }
   ],
   "source": [
    "#Male count and percentage\n",
    "male_count = purchase_data_pd['Gender'].str.count(\"Male\") \n",
    "male_count\n",
    "\n",
    "tot_male = sum(male_count)\n",
    "tot_male\n",
    "print('Count of Male Players: ', (tot_male))\n",
    "\n",
    "perc_male = tot_male / tot_purch\n",
    "print('Percent of Male Players: ', (perc_male))\n"
   ]
  },
  {
   "cell_type": "code",
   "execution_count": 141,
   "metadata": {},
   "outputs": [
    {
     "name": "stdout",
     "output_type": "stream",
     "text": [
      "Count of Female Players:  113\n",
      "Percentage of Female Players:  0.14487179487179488\n"
     ]
    }
   ],
   "source": [
    "#Female count and percentage\n",
    "female_count = purchase_data_pd['Gender'].str.count(\"Female\") \n",
    "female_count\n",
    "\n",
    "tot_female = sum(female_count)\n",
    "print('Count of Female Players: ', (tot_female))\n",
    "\n",
    "perc_female = tot_female / tot_purch\n",
    "print('Percentage of Female Players: ', (perc_female))"
   ]
  },
  {
   "cell_type": "code",
   "execution_count": 142,
   "metadata": {},
   "outputs": [
    {
     "name": "stdout",
     "output_type": "stream",
     "text": [
      "Count of Other/Non-Disclosed:  15\n",
      "Percentage of Other/Non-Disclosed:  0.019230769230769232\n"
     ]
    }
   ],
   "source": [
    "#Other count and percentage\n",
    "other_count = purchase_data_pd['Gender'].str.count(\"Other / Non-Disclosed\") \n",
    "other_count\n",
    "\n",
    "tot_other = sum(other_count)\n",
    "tot_other\n",
    "print('Count of Other/Non-Disclosed: ', (tot_other))\n",
    "\n",
    "perc_other = tot_other / tot_purch\n",
    "print('Percentage of Other/Non-Disclosed: ', perc_other)"
   ]
  },
  {
   "cell_type": "code",
   "execution_count": 143,
   "metadata": {},
   "outputs": [
    {
     "name": "stdout",
     "output_type": "stream",
     "text": [
      "Male Purchase Count:  652\n",
      "Male Average Purchase Price:  3.0178527607361967\n",
      "Male Total Purchase Value:  1967.64\n",
      "Male Average Purchase Total per Person: 4.065371900826446\n"
     ]
    }
   ],
   "source": [
    "#Male purchasing analysis\n",
    "\n",
    "#Male purchase count\n",
    "male_purch_count = sum(male_count)\n",
    "print('Male Purchase Count: ', (male_purch_count))\n",
    "\n",
    "#Average purchase price\n",
    "male_av_purch_price = purchase_data_pd[purchase_data_pd['Gender']=='Male']['Price'].sum() / male_purch_count\n",
    "print('Male Average Purchase Price: ', (male_av_purch_price))\n",
    "\n",
    "#Total purchase value\n",
    "male_tot_purch_value = purchase_data_pd[purchase_data_pd['Gender']=='Male']['Price'].sum()\n",
    "print('Male Total Purchase Value: ', (male_tot_purch_value))\n",
    "\n",
    "#Average Purchase Total per Person by Gender\n",
    "male_df = purchase_data_pd.loc[purchase_data_pd['Gender'] == 'Male']\n",
    "male_df.head()\n",
    "\n",
    "male_df.groupby(['SN']).sum()\n",
    "\n",
    "male_avg = male_df['Price'].sum() / male_df['SN'].nunique()\n",
    "print('Male Average Purchase Total per Person:', (male_avg))"
   ]
  },
  {
   "cell_type": "code",
   "execution_count": 144,
   "metadata": {},
   "outputs": [
    {
     "name": "stdout",
     "output_type": "stream",
     "text": [
      "Female Purchase Count:  113\n",
      "Female Average Purchase Price:  3.203008849557522\n",
      "Female Total Purchase Value:  361.94\n",
      "Female Average Purchase Total per Person: 4.468395061728395\n"
     ]
    }
   ],
   "source": [
    "#Female purchasing analysis\n",
    "\n",
    "#Female purchase count\n",
    "female_purch_count = sum(female_count)\n",
    "print('Female Purchase Count: ', (female_purch_count))\n",
    "\n",
    "#Average purchase price\n",
    "female_av_purch_price = purchase_data_pd[purchase_data_pd['Gender']=='Female']['Price'].sum() / female_purch_count\n",
    "print('Female Average Purchase Price: ', (female_av_purch_price))\n",
    "\n",
    "#Total purchase value\n",
    "female_tot_purch_value = purchase_data_pd[purchase_data_pd['Gender']=='Female']['Price'].sum()\n",
    "print('Female Total Purchase Value: ', (female_tot_purch_value))\n",
    "\n",
    "#Average Purchase Total per Person by Gender\n",
    "female_df = purchase_data_pd.loc[purchase_data_pd['Gender'] == 'Female']\n",
    "female_df.head()\n",
    "\n",
    "female_df.groupby(['SN']).sum()\n",
    "\n",
    "female_avg = female_df['Price'].sum() / female_df['SN'].nunique()\n",
    "print('Female Average Purchase Total per Person:', (female_avg))"
   ]
  },
  {
   "cell_type": "code",
   "execution_count": 145,
   "metadata": {},
   "outputs": [
    {
     "name": "stdout",
     "output_type": "stream",
     "text": [
      "Other Purchase Count:  15\n",
      "Other Average Purchase Price:  3.3459999999999996\n",
      "Other Total Purchase Value:  50.19\n",
      "Other Average Purchase Total per Person: 4.5627272727272725\n"
     ]
    }
   ],
   "source": [
    "#Other / Non-Disclosed purchasing analysis\n",
    "\n",
    "#Other / Non-Disclosed purchase count\n",
    "other_purch_count = sum(other_count)\n",
    "print('Other Purchase Count: ', (other_purch_count))\n",
    "\n",
    "#Average purchase price\n",
    "other_av_purch_price = purchase_data_pd[purchase_data_pd['Gender']=='Other / Non-Disclosed']['Price'].sum() / other_purch_count\n",
    "print('Other Average Purchase Price: ', (other_av_purch_price))\n",
    "\n",
    "#Total purchase value\n",
    "other_tot_purch_value = purchase_data_pd[purchase_data_pd['Gender']=='Other / Non-Disclosed']['Price'].sum()\n",
    "print('Other Total Purchase Value: ', (other_tot_purch_value))\n",
    "\n",
    "#Average Purchase Total per Person by Gender\n",
    "other_df = purchase_data_pd.loc[purchase_data_pd['Gender'] == 'Other / Non-Disclosed']\n",
    "other_df.head()\n",
    "\n",
    "other_df.groupby(['SN']).sum()\n",
    "\n",
    "other_avg = other_df['Price'].sum() / other_df['SN'].nunique()\n",
    "print('Other Average Purchase Total per Person:', (other_avg))"
   ]
  },
  {
   "cell_type": "code",
   "execution_count": 146,
   "metadata": {},
   "outputs": [
    {
     "data": {
      "text/html": [
       "<div>\n",
       "<style scoped>\n",
       "    .dataframe tbody tr th:only-of-type {\n",
       "        vertical-align: middle;\n",
       "    }\n",
       "\n",
       "    .dataframe tbody tr th {\n",
       "        vertical-align: top;\n",
       "    }\n",
       "\n",
       "    .dataframe thead th {\n",
       "        text-align: right;\n",
       "    }\n",
       "</style>\n",
       "<table border=\"1\" class=\"dataframe\">\n",
       "  <thead>\n",
       "    <tr style=\"text-align: right;\">\n",
       "      <th></th>\n",
       "      <th>Purchase ID</th>\n",
       "      <th>SN</th>\n",
       "      <th>Age</th>\n",
       "      <th>Gender</th>\n",
       "      <th>Item ID</th>\n",
       "      <th>Item Name</th>\n",
       "      <th>Price</th>\n",
       "      <th>Age Groups</th>\n",
       "    </tr>\n",
       "  </thead>\n",
       "  <tbody>\n",
       "    <tr>\n",
       "      <td>0</td>\n",
       "      <td>0</td>\n",
       "      <td>Lisim78</td>\n",
       "      <td>20</td>\n",
       "      <td>Male</td>\n",
       "      <td>108</td>\n",
       "      <td>Extraction, Quickblade Of Trembling Hands</td>\n",
       "      <td>3.53</td>\n",
       "      <td>Over 20</td>\n",
       "    </tr>\n",
       "    <tr>\n",
       "      <td>1</td>\n",
       "      <td>1</td>\n",
       "      <td>Lisovynya38</td>\n",
       "      <td>40</td>\n",
       "      <td>Male</td>\n",
       "      <td>143</td>\n",
       "      <td>Frenzied Scimitar</td>\n",
       "      <td>1.56</td>\n",
       "      <td>Over 20</td>\n",
       "    </tr>\n",
       "    <tr>\n",
       "      <td>2</td>\n",
       "      <td>2</td>\n",
       "      <td>Ithergue48</td>\n",
       "      <td>24</td>\n",
       "      <td>Male</td>\n",
       "      <td>92</td>\n",
       "      <td>Final Critic</td>\n",
       "      <td>4.88</td>\n",
       "      <td>Over 20</td>\n",
       "    </tr>\n",
       "    <tr>\n",
       "      <td>3</td>\n",
       "      <td>3</td>\n",
       "      <td>Chamassasya86</td>\n",
       "      <td>24</td>\n",
       "      <td>Male</td>\n",
       "      <td>100</td>\n",
       "      <td>Blindscythe</td>\n",
       "      <td>3.27</td>\n",
       "      <td>Over 20</td>\n",
       "    </tr>\n",
       "    <tr>\n",
       "      <td>4</td>\n",
       "      <td>4</td>\n",
       "      <td>Iskosia90</td>\n",
       "      <td>23</td>\n",
       "      <td>Male</td>\n",
       "      <td>131</td>\n",
       "      <td>Fury</td>\n",
       "      <td>1.44</td>\n",
       "      <td>Over 20</td>\n",
       "    </tr>\n",
       "    <tr>\n",
       "      <td>...</td>\n",
       "      <td>...</td>\n",
       "      <td>...</td>\n",
       "      <td>...</td>\n",
       "      <td>...</td>\n",
       "      <td>...</td>\n",
       "      <td>...</td>\n",
       "      <td>...</td>\n",
       "      <td>...</td>\n",
       "    </tr>\n",
       "    <tr>\n",
       "      <td>775</td>\n",
       "      <td>775</td>\n",
       "      <td>Aethedru70</td>\n",
       "      <td>21</td>\n",
       "      <td>Female</td>\n",
       "      <td>60</td>\n",
       "      <td>Wolf</td>\n",
       "      <td>3.54</td>\n",
       "      <td>Over 20</td>\n",
       "    </tr>\n",
       "    <tr>\n",
       "      <td>776</td>\n",
       "      <td>776</td>\n",
       "      <td>Iral74</td>\n",
       "      <td>21</td>\n",
       "      <td>Male</td>\n",
       "      <td>164</td>\n",
       "      <td>Exiled Doomblade</td>\n",
       "      <td>1.63</td>\n",
       "      <td>Over 20</td>\n",
       "    </tr>\n",
       "    <tr>\n",
       "      <td>777</td>\n",
       "      <td>777</td>\n",
       "      <td>Yathecal72</td>\n",
       "      <td>20</td>\n",
       "      <td>Male</td>\n",
       "      <td>67</td>\n",
       "      <td>Celeste, Incarnation of the Corrupted</td>\n",
       "      <td>3.46</td>\n",
       "      <td>Over 20</td>\n",
       "    </tr>\n",
       "    <tr>\n",
       "      <td>778</td>\n",
       "      <td>778</td>\n",
       "      <td>Sisur91</td>\n",
       "      <td>7</td>\n",
       "      <td>Male</td>\n",
       "      <td>101</td>\n",
       "      <td>Final Critic</td>\n",
       "      <td>4.19</td>\n",
       "      <td>Under 10</td>\n",
       "    </tr>\n",
       "    <tr>\n",
       "      <td>779</td>\n",
       "      <td>779</td>\n",
       "      <td>Ennrian78</td>\n",
       "      <td>24</td>\n",
       "      <td>Male</td>\n",
       "      <td>50</td>\n",
       "      <td>Dawn</td>\n",
       "      <td>4.60</td>\n",
       "      <td>Over 20</td>\n",
       "    </tr>\n",
       "  </tbody>\n",
       "</table>\n",
       "<p>780 rows × 8 columns</p>\n",
       "</div>"
      ],
      "text/plain": [
       "     Purchase ID             SN  Age  Gender  Item ID  \\\n",
       "0              0        Lisim78   20    Male      108   \n",
       "1              1    Lisovynya38   40    Male      143   \n",
       "2              2     Ithergue48   24    Male       92   \n",
       "3              3  Chamassasya86   24    Male      100   \n",
       "4              4      Iskosia90   23    Male      131   \n",
       "..           ...            ...  ...     ...      ...   \n",
       "775          775     Aethedru70   21  Female       60   \n",
       "776          776         Iral74   21    Male      164   \n",
       "777          777     Yathecal72   20    Male       67   \n",
       "778          778        Sisur91    7    Male      101   \n",
       "779          779      Ennrian78   24    Male       50   \n",
       "\n",
       "                                     Item Name  Price Age Groups  \n",
       "0    Extraction, Quickblade Of Trembling Hands   3.53    Over 20  \n",
       "1                            Frenzied Scimitar   1.56    Over 20  \n",
       "2                                 Final Critic   4.88    Over 20  \n",
       "3                                  Blindscythe   3.27    Over 20  \n",
       "4                                         Fury   1.44    Over 20  \n",
       "..                                         ...    ...        ...  \n",
       "775                                       Wolf   3.54    Over 20  \n",
       "776                           Exiled Doomblade   1.63    Over 20  \n",
       "777      Celeste, Incarnation of the Corrupted   3.46    Over 20  \n",
       "778                               Final Critic   4.19   Under 10  \n",
       "779                                       Dawn   4.60    Over 20  \n",
       "\n",
       "[780 rows x 8 columns]"
      ]
     },
     "execution_count": 146,
     "metadata": {},
     "output_type": "execute_result"
    }
   ],
   "source": [
    "#Age Demographics\n",
    "\n",
    "bins = [0, 10, 14, 19, 50]\n",
    "\n",
    "group_names = ['Under 10', '11 to 14', '15 to 19', 'Over 20']\n",
    "\n",
    "purchase_data_pd[\"Age Groups\"] = pd.cut(purchase_data_pd[\"Age\"], bins, labels=group_names)\n",
    "purchase_data_pd\n"
   ]
  },
  {
   "cell_type": "code",
   "execution_count": 147,
   "metadata": {},
   "outputs": [
    {
     "name": "stdout",
     "output_type": "stream",
     "text": [
      "Under 10 Purchase Count:  32\n",
      "11 to 14 Purchase Count:  19\n",
      "15 to 19 Purchase Count:  136\n",
      "Over 20 Purchase Count:  593\n"
     ]
    }
   ],
   "source": [
    "#Bin calculations\n",
    "\n",
    "#Purchase count\n",
    "under_10 = purchase_data_pd['Age Groups'].str.count('Under 10')\n",
    "under10_tot = sum(under_10)\n",
    "print('Under 10 Purchase Count: ', (under10_tot))\n",
    "\n",
    "elev_to_fourt = purchase_data_pd['Age Groups'].str.count('11 to 14')\n",
    "elevfourt_tot = sum(elev_to_fourt)\n",
    "print('11 to 14 Purchase Count: ', (elevfourt_tot))\n",
    "\n",
    "fif_to_nine = purchase_data_pd['Age Groups'].str.count('15 to 19')\n",
    "fifnine_tot = sum(fif_to_nine)\n",
    "print('15 to 19 Purchase Count: ', (fifnine_tot))\n",
    "\n",
    "over_20 = purchase_data_pd['Age Groups'].str.count('Over 20')\n",
    "over20_tot = sum(over_20)\n",
    "print('Over 20 Purchase Count: ', (over20_tot))"
   ]
  },
  {
   "cell_type": "code",
   "execution_count": 148,
   "metadata": {},
   "outputs": [
    {
     "name": "stdout",
     "output_type": "stream",
     "text": [
      "Under 10 Average Purchase Price:  3.4050000000000002\n",
      "11 to 14 Average Purchase Price:  2.6815789473684206\n",
      "15 to 19 Average Purchase Price:  3.035955882352941\n",
      "Over 20 Average Purchase Price:  3.04716694772344\n"
     ]
    }
   ],
   "source": [
    "# Bin Averages\n",
    "\n",
    "under_10_sum = purchase_data_pd[purchase_data_pd['Age Groups']=='Under 10']['Price'].sum()\n",
    "under_10_avg = under_10_sum/ under10_tot\n",
    "\n",
    "print('Under 10 Average Purchase Price: ', (under_10_avg))\n",
    "\n",
    "elev_to_fourt_sum = purchase_data_pd[purchase_data_pd['Age Groups']=='11 to 14']['Price'].sum()\n",
    "elev_to_fourt_avg = elev_to_fourt_sum / elevfourt_tot\n",
    "print('11 to 14 Average Purchase Price: ', (elev_to_fourt_avg))\n",
    "\n",
    "fif_to_nine_sum = purchase_data_pd[purchase_data_pd['Age Groups']=='15 to 19']['Price'].sum()\n",
    "fif_to_nine_avg = fif_to_nine_sum / fifnine_tot\n",
    "print('15 to 19 Average Purchase Price: ', (fif_to_nine_avg))\n",
    "\n",
    "over_20_sum = purchase_data_pd[purchase_data_pd['Age Groups']=='Over 20']['Price'].sum()\n",
    "over_20_avg = over_20_sum / over20_tot\n",
    "print('Over 20 Average Purchase Price: ', (over_20_avg))"
   ]
  },
  {
   "cell_type": "code",
   "execution_count": 156,
   "metadata": {},
   "outputs": [
    {
     "name": "stdout",
     "output_type": "stream",
     "text": [
      "Under 10 Total Purchase Value:  108.96000000000001\n",
      "11 to 14 Total Purchase Value:  50.949999999999996\n",
      "15 to 19 Total Purchase Value:  412.89\n",
      "Over 20 Total Purchase Value:  1806.97\n"
     ]
    }
   ],
   "source": [
    "#Bin Purchase Totals\n",
    "\n",
    "under_10_sum = purchase_data_pd[purchase_data_pd['Age Groups']=='Under 10']['Price'].sum()\n",
    "print('Under 10 Total Purchase Value: ', (under_10_sum))\n",
    "\n",
    "elev_to_fourt_sum = purchase_data_pd[purchase_data_pd['Age Groups']=='11 to 14']['Price'].sum()\n",
    "print('11 to 14 Total Purchase Value: ', (elev_to_fourt_sum))\n",
    "\n",
    "fif_to_nine_sum = purchase_data_pd[purchase_data_pd['Age Groups']=='15 to 19']['Price'].sum()\n",
    "print('15 to 19 Total Purchase Value: ', (fif_to_nine_sum))\n",
    "\n",
    "over_20_sum = purchase_data_pd[purchase_data_pd['Age Groups']=='Over 20']['Price'].sum()\n",
    "print('Over 20 Total Purchase Value: ', (over_20_sum))"
   ]
  },
  {
   "cell_type": "code",
   "execution_count": 151,
   "metadata": {},
   "outputs": [
    {
     "data": {
      "text/html": [
       "<div>\n",
       "<style scoped>\n",
       "    .dataframe tbody tr th:only-of-type {\n",
       "        vertical-align: middle;\n",
       "    }\n",
       "\n",
       "    .dataframe tbody tr th {\n",
       "        vertical-align: top;\n",
       "    }\n",
       "\n",
       "    .dataframe thead th {\n",
       "        text-align: right;\n",
       "    }\n",
       "</style>\n",
       "<table border=\"1\" class=\"dataframe\">\n",
       "  <thead>\n",
       "    <tr style=\"text-align: right;\">\n",
       "      <th></th>\n",
       "      <th>Purchase ID</th>\n",
       "      <th>Age</th>\n",
       "      <th>Item ID</th>\n",
       "      <th>Price</th>\n",
       "    </tr>\n",
       "    <tr>\n",
       "      <th>SN</th>\n",
       "      <th></th>\n",
       "      <th></th>\n",
       "      <th></th>\n",
       "      <th></th>\n",
       "    </tr>\n",
       "  </thead>\n",
       "  <tbody>\n",
       "    <tr>\n",
       "      <td>Lisosia93</td>\n",
       "      <td>1630</td>\n",
       "      <td>125</td>\n",
       "      <td>451</td>\n",
       "      <td>18.96</td>\n",
       "    </tr>\n",
       "    <tr>\n",
       "      <td>Idastidru52</td>\n",
       "      <td>1999</td>\n",
       "      <td>96</td>\n",
       "      <td>527</td>\n",
       "      <td>15.45</td>\n",
       "    </tr>\n",
       "    <tr>\n",
       "      <td>Chamjask73</td>\n",
       "      <td>1306</td>\n",
       "      <td>66</td>\n",
       "      <td>339</td>\n",
       "      <td>13.83</td>\n",
       "    </tr>\n",
       "    <tr>\n",
       "      <td>Iral74</td>\n",
       "      <td>2285</td>\n",
       "      <td>84</td>\n",
       "      <td>518</td>\n",
       "      <td>13.62</td>\n",
       "    </tr>\n",
       "    <tr>\n",
       "      <td>Iskadarya95</td>\n",
       "      <td>713</td>\n",
       "      <td>60</td>\n",
       "      <td>321</td>\n",
       "      <td>13.10</td>\n",
       "    </tr>\n",
       "  </tbody>\n",
       "</table>\n",
       "</div>"
      ],
      "text/plain": [
       "             Purchase ID  Age  Item ID  Price\n",
       "SN                                           \n",
       "Lisosia93           1630  125      451  18.96\n",
       "Idastidru52         1999   96      527  15.45\n",
       "Chamjask73          1306   66      339  13.83\n",
       "Iral74              2285   84      518  13.62\n",
       "Iskadarya95          713   60      321  13.10"
      ]
     },
     "execution_count": 151,
     "metadata": {},
     "output_type": "execute_result"
    }
   ],
   "source": [
    "#Top Spenders\n",
    "\n",
    "#Puchase Sum per spender\n",
    "groupby_df = purchase_data_pd.groupby(['SN']).sum()\n",
    "groupby_df\n",
    "\n",
    "groupby_sorted = groupby_df.sort_values(['Price'], ascending=False)\n",
    "groupby_sorted\n",
    "\n",
    "groupby_sorted = groupby_sorted.loc[groupby_sorted['Price'] >= 13.10]\n",
    "groupby_sorted\n"
   ]
  },
  {
   "cell_type": "code",
   "execution_count": 152,
   "metadata": {},
   "outputs": [
    {
     "data": {
      "text/html": [
       "<div>\n",
       "<style scoped>\n",
       "    .dataframe tbody tr th:only-of-type {\n",
       "        vertical-align: middle;\n",
       "    }\n",
       "\n",
       "    .dataframe tbody tr th {\n",
       "        vertical-align: top;\n",
       "    }\n",
       "\n",
       "    .dataframe thead th {\n",
       "        text-align: right;\n",
       "    }\n",
       "</style>\n",
       "<table border=\"1\" class=\"dataframe\">\n",
       "  <thead>\n",
       "    <tr style=\"text-align: right;\">\n",
       "      <th></th>\n",
       "      <th></th>\n",
       "      <th>Purchase count</th>\n",
       "      <th>Item Price</th>\n",
       "      <th>Total Purchase Value</th>\n",
       "    </tr>\n",
       "    <tr>\n",
       "      <th>Item Name</th>\n",
       "      <th>Item ID</th>\n",
       "      <th></th>\n",
       "      <th></th>\n",
       "      <th></th>\n",
       "    </tr>\n",
       "  </thead>\n",
       "  <tbody>\n",
       "    <tr>\n",
       "      <td>Oathbreaker, Last Hope of the Breaking Storm</td>\n",
       "      <td>178</td>\n",
       "      <td>12</td>\n",
       "      <td>4.23</td>\n",
       "      <td>50.76</td>\n",
       "    </tr>\n",
       "    <tr>\n",
       "      <td>Extraction, Quickblade Of Trembling Hands</td>\n",
       "      <td>108</td>\n",
       "      <td>9</td>\n",
       "      <td>3.53</td>\n",
       "      <td>31.77</td>\n",
       "    </tr>\n",
       "    <tr>\n",
       "      <td>Nirvana</td>\n",
       "      <td>82</td>\n",
       "      <td>9</td>\n",
       "      <td>4.90</td>\n",
       "      <td>44.10</td>\n",
       "    </tr>\n",
       "    <tr>\n",
       "      <td>Fiery Glass Crusader</td>\n",
       "      <td>145</td>\n",
       "      <td>9</td>\n",
       "      <td>4.58</td>\n",
       "      <td>41.22</td>\n",
       "    </tr>\n",
       "    <tr>\n",
       "      <td>Pursuit, Cudgel of Necromancy</td>\n",
       "      <td>19</td>\n",
       "      <td>8</td>\n",
       "      <td>1.02</td>\n",
       "      <td>8.16</td>\n",
       "    </tr>\n",
       "  </tbody>\n",
       "</table>\n",
       "</div>"
      ],
      "text/plain": [
       "                                                      Purchase count  \\\n",
       "Item Name                                    Item ID                   \n",
       "Oathbreaker, Last Hope of the Breaking Storm 178                  12   \n",
       "Extraction, Quickblade Of Trembling Hands    108                   9   \n",
       "Nirvana                                      82                    9   \n",
       "Fiery Glass Crusader                         145                   9   \n",
       "Pursuit, Cudgel of Necromancy                19                    8   \n",
       "\n",
       "                                                      Item Price  \\\n",
       "Item Name                                    Item ID               \n",
       "Oathbreaker, Last Hope of the Breaking Storm 178            4.23   \n",
       "Extraction, Quickblade Of Trembling Hands    108            3.53   \n",
       "Nirvana                                      82             4.90   \n",
       "Fiery Glass Crusader                         145            4.58   \n",
       "Pursuit, Cudgel of Necromancy                19             1.02   \n",
       "\n",
       "                                                      Total Purchase Value  \n",
       "Item Name                                    Item ID                        \n",
       "Oathbreaker, Last Hope of the Breaking Storm 178                     50.76  \n",
       "Extraction, Quickblade Of Trembling Hands    108                     31.77  \n",
       "Nirvana                                      82                      44.10  \n",
       "Fiery Glass Crusader                         145                     41.22  \n",
       "Pursuit, Cudgel of Necromancy                19                       8.16  "
      ]
     },
     "execution_count": 152,
     "metadata": {},
     "output_type": "execute_result"
    }
   ],
   "source": [
    "#Most popular items\n",
    "\n",
    "pop_items = purchase_data_pd[[\"Item ID\",\"Item Name\",\"Price\"]]\n",
    "\n",
    "pop_item_df = pop_items.groupby(['Item Name', 'Item ID'])\n",
    "\n",
    "item_count = pop_item_df.Price.count()\n",
    "\n",
    "item_sum = pop_item_df.Price.sum()\n",
    "\n",
    "item_price = item_sum / item_count\n",
    "\n",
    "most_pop = pd.DataFrame({\"Purchase count\": item_count,\n",
    "                         \"Item Price\": item_price,\n",
    "                         \"Total Purchase Value\": item_sum})\n",
    "\n",
    "descending = most_pop.sort_values(['Purchase count'], ascending=False)\n",
    "descending.head()"
   ]
  },
  {
   "cell_type": "code",
   "execution_count": 153,
   "metadata": {},
   "outputs": [
    {
     "data": {
      "text/html": [
       "<div>\n",
       "<style scoped>\n",
       "    .dataframe tbody tr th:only-of-type {\n",
       "        vertical-align: middle;\n",
       "    }\n",
       "\n",
       "    .dataframe tbody tr th {\n",
       "        vertical-align: top;\n",
       "    }\n",
       "\n",
       "    .dataframe thead th {\n",
       "        text-align: right;\n",
       "    }\n",
       "</style>\n",
       "<table border=\"1\" class=\"dataframe\">\n",
       "  <thead>\n",
       "    <tr style=\"text-align: right;\">\n",
       "      <th></th>\n",
       "      <th></th>\n",
       "      <th>Purchase count</th>\n",
       "      <th>Item Price</th>\n",
       "      <th>Total Purchase Value</th>\n",
       "    </tr>\n",
       "    <tr>\n",
       "      <th>Item Name</th>\n",
       "      <th>Item ID</th>\n",
       "      <th></th>\n",
       "      <th></th>\n",
       "      <th></th>\n",
       "    </tr>\n",
       "  </thead>\n",
       "  <tbody>\n",
       "    <tr>\n",
       "      <td>Oathbreaker, Last Hope of the Breaking Storm</td>\n",
       "      <td>178</td>\n",
       "      <td>12</td>\n",
       "      <td>4.23</td>\n",
       "      <td>50.76</td>\n",
       "    </tr>\n",
       "    <tr>\n",
       "      <td>Nirvana</td>\n",
       "      <td>82</td>\n",
       "      <td>9</td>\n",
       "      <td>4.90</td>\n",
       "      <td>44.10</td>\n",
       "    </tr>\n",
       "    <tr>\n",
       "      <td>Fiery Glass Crusader</td>\n",
       "      <td>145</td>\n",
       "      <td>9</td>\n",
       "      <td>4.58</td>\n",
       "      <td>41.22</td>\n",
       "    </tr>\n",
       "    <tr>\n",
       "      <td>Final Critic</td>\n",
       "      <td>92</td>\n",
       "      <td>8</td>\n",
       "      <td>4.88</td>\n",
       "      <td>39.04</td>\n",
       "    </tr>\n",
       "    <tr>\n",
       "      <td>Singed Scalpel</td>\n",
       "      <td>103</td>\n",
       "      <td>8</td>\n",
       "      <td>4.35</td>\n",
       "      <td>34.80</td>\n",
       "    </tr>\n",
       "  </tbody>\n",
       "</table>\n",
       "</div>"
      ],
      "text/plain": [
       "                                                      Purchase count  \\\n",
       "Item Name                                    Item ID                   \n",
       "Oathbreaker, Last Hope of the Breaking Storm 178                  12   \n",
       "Nirvana                                      82                    9   \n",
       "Fiery Glass Crusader                         145                   9   \n",
       "Final Critic                                 92                    8   \n",
       "Singed Scalpel                               103                   8   \n",
       "\n",
       "                                                      Item Price  \\\n",
       "Item Name                                    Item ID               \n",
       "Oathbreaker, Last Hope of the Breaking Storm 178            4.23   \n",
       "Nirvana                                      82             4.90   \n",
       "Fiery Glass Crusader                         145            4.58   \n",
       "Final Critic                                 92             4.88   \n",
       "Singed Scalpel                               103            4.35   \n",
       "\n",
       "                                                      Total Purchase Value  \n",
       "Item Name                                    Item ID                        \n",
       "Oathbreaker, Last Hope of the Breaking Storm 178                     50.76  \n",
       "Nirvana                                      82                      44.10  \n",
       "Fiery Glass Crusader                         145                     41.22  \n",
       "Final Critic                                 92                      39.04  \n",
       "Singed Scalpel                               103                     34.80  "
      ]
     },
     "execution_count": 153,
     "metadata": {},
     "output_type": "execute_result"
    }
   ],
   "source": [
    "purch_val = most_pop.sort_values(['Total Purchase Value'], ascending=False)\n",
    "purch_val.head()"
   ]
  }
 ],
 "metadata": {
  "kernelspec": {
   "display_name": "Python 3",
   "language": "python",
   "name": "python3"
  },
  "language_info": {
   "codemirror_mode": {
    "name": "ipython",
    "version": 3
   },
   "file_extension": ".py",
   "mimetype": "text/x-python",
   "name": "python",
   "nbconvert_exporter": "python",
   "pygments_lexer": "ipython3",
   "version": "3.7.4"
  }
 },
 "nbformat": 4,
 "nbformat_minor": 2
}
